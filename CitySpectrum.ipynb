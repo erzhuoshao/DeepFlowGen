{
 "cells": [
  {
   "cell_type": "code",
   "execution_count": null,
   "metadata": {},
   "outputs": [],
   "source": [
    "#coding=utf-8\n",
    "from __future__ import print_function\n",
    "import setproctitle\n",
    "setproctitle.setproctitle('BeijingFlow@shaoerzhuo')\n",
    "\n",
    "import os, tqdm, torch\n",
    "import numpy as np\n",
    "import torch.nn as nn\n",
    "import torch.nn.functional as F\n",
    "import torch.optim as optim\n",
    "from torch.utils.data import Dataset, DataLoader\n",
    "from utils.datasets import DFGDataset, collate_fn\n",
    "import utils.metrics as metrics\n",
    "from model.correlation import get_CORR_numpy, get_CORR_numpy2, get_CORR_torch, get_CORR_torch2\n",
    "\n",
    "class config:\n",
    "    cuda_num = 0\n",
    "    cityname = 'shanghai'\n",
    "    io = 'outflow'\n",
    "    time_slice = 48\n",
    "    epoch_num = 10000\n",
    "    batch_size = 2**12\n",
    "    interval = 50\n",
    "print(config.__dict__)\n",
    "\n",
    "checkin_cate = 14\n",
    "poi_cate = 14\n",
    "\n",
    "dataset_config = {\n",
    "    'cityname' : config.cityname,\n",
    "    'dataset_path' : os.path.join('/data2/shaoerzhuo/DeepFlowGen/Dataset', config.cityname, 'dataset'),\n",
    "    'i/o' : config.io,\n",
    "    'max_value' : {'beijing':{'inflow':1587.8500, 'outflow':1929.5500}, 'shanghai':{'inflow':8179.6667, 'outflow':9417.3333}}[config.cityname][config.io],\n",
    "    'poi_cate' : poi_cate,\n",
    "    'beta' : 1\n",
    "}\n",
    "\n",
    "flow_max = {'shanghai':{'inflow':8179.6667, 'outflow':9417.3333}, 'beijing':{'inflow':1583.9167, 'outflow':1925.8333}}[config.cityname][config.io]\n",
    "\n",
    "train_dataset = DFGDataset(dataset_config, 'train')\n",
    "valid_dataset = DFGDataset(dataset_config, 'valid')\n",
    "test_dataset = DFGDataset(dataset_config, 'test')\n",
    "\n",
    "train_loader = DataLoader(train_dataset, num_workers=10, batch_size=config.batch_size, shuffle=True, collate_fn=collate_fn)\n",
    "valid_loader = DataLoader(valid_dataset, num_workers=10, batch_size=config.batch_size, shuffle=False, collate_fn=collate_fn)\n",
    "test_loader = DataLoader(test_dataset, num_workers=10, batch_size=config.batch_size, shuffle=False, collate_fn=collate_fn)"
   ]
  },
  {
   "cell_type": "code",
   "execution_count": null,
   "metadata": {},
   "outputs": [],
   "source": [
    "poi = train_loader.dataset.poi[:, :14]\n",
    "for iter in range(14):\n",
    "    poi[:,iter] /= poi[:,iter].sum()\n",
    "flow = train_loader.dataset.flow\n",
    "checkin = train_loader.dataset.checkin"
   ]
  },
  {
   "cell_type": "code",
   "execution_count": null,
   "metadata": {},
   "outputs": [],
   "source": [
    "from sklearn.decomposition import NMF\n",
    "from copy import deepcopy\n",
    "nmf = NMF(n_components=14, max_iter=1000)\n",
    "v = nmf.fit_transform(flow.T).T\n",
    "u = deepcopy(nmf.components_).T\n",
    "\n",
    "p = nmf.fit_transform(poi.T).T\n",
    "u_new = nmf.components_.T"
   ]
  },
  {
   "cell_type": "code",
   "execution_count": null,
   "metadata": {},
   "outputs": [],
   "source": [
    "flow_pred = np.matmul(u_new, v)\n",
    "flow_pred *= (flow.mean() / flow_pred.mean())\n",
    "\n",
    "iacf = (u[:,:,np.newaxis] * v[np.newaxis]).transpose([0,2,1])\n",
    "checkin_pred = np.zeros([poi.shape[0], 48, 14])"
   ]
  },
  {
   "cell_type": "code",
   "execution_count": null,
   "metadata": {},
   "outputs": [],
   "source": [
    "from sklearn.linear_model import LinearRegression\n",
    "for t in range(48):\n",
    "    lr = LinearRegression().fit(iacf[:, t], checkin[:, t])\n",
    "    checkin_pred[:, t] = lr.predict(iacf[:, t])\n",
    "    \n",
    "print(metrics.get_RMSE(flow_pred, flow) * dataset_config['max_value'])\n",
    "print(metrics.get_NRMSE(flow_pred, flow))\n",
    "print(get_CORR_numpy2(checkin_pred, checkin))"
   ]
  },
  {
   "cell_type": "code",
   "execution_count": null,
   "metadata": {},
   "outputs": [],
   "source": []
  }
 ],
 "metadata": {
  "kernelspec": {
   "display_name": "Python 3",
   "language": "python",
   "name": "python3"
  },
  "language_info": {
   "codemirror_mode": {
    "name": "ipython",
    "version": 3
   },
   "file_extension": ".py",
   "mimetype": "text/x-python",
   "name": "python",
   "nbconvert_exporter": "python",
   "pygments_lexer": "ipython3",
   "version": "3.7.0"
  }
 },
 "nbformat": 4,
 "nbformat_minor": 2
}
